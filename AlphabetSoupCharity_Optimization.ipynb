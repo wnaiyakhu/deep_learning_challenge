{
 "cells": [
  {
   "cell_type": "markdown",
   "id": "91dab7cb",
   "metadata": {},
   "source": [
    "## Preprocessing"
   ]
  },
  {
   "cell_type": "code",
   "execution_count": null,
   "id": "199247b8",
   "metadata": {},
   "outputs": [],
   "source": [
    "# Import our dependencies\n",
    "from sklearn.model_selection import train_test_split\n",
    "from sklearn.preprocessing import StandardScaler\n",
    "import pandas as pd\n",
    "import tensorflow as tf\n",
    "\n",
    "#  Import and read the charity_data.csv.\n",
    "import pandas as pd \n",
    "app_df = pd.read_csv(\"charity_data.csv\")\n",
    "app_df.head()"
   ]
  },
  {
   "cell_type": "code",
   "execution_count": null,
   "id": "08427b30",
   "metadata": {},
   "outputs": [],
   "source": [
    "# Drop the non-beneficial ID columns, 'EIN' and 'NAME'.\n",
    "df = app_df.drop(columns=['EIN','NAME'])"
   ]
  },
  {
   "cell_type": "code",
   "execution_count": null,
   "id": "481dc012",
   "metadata": {},
   "outputs": [],
   "source": [
    "df"
   ]
  },
  {
   "cell_type": "code",
   "execution_count": null,
   "id": "dbcb8aa7",
   "metadata": {},
   "outputs": [],
   "source": [
    "# Determine the number of unique values in each column.\n",
    "df.nunique()"
   ]
  },
  {
   "cell_type": "code",
   "execution_count": null,
   "id": "27ada8a8",
   "metadata": {},
   "outputs": [],
   "source": [
    "# Look at APPLICATION_TYPE value counts for binning\n",
    "application_types = df['APPLICATION_TYPE'].value_counts()\n",
    "application_types"
   ]
  },
  {
   "cell_type": "code",
   "execution_count": null,
   "id": "535c360d",
   "metadata": {},
   "outputs": [],
   "source": [
    "# Choose a cutoff value and create a list of application types to be replaced\n",
    "# use the variable name `application_types_to_replace`\n",
    "application_types_to_replace = [index for index,row in application_types.items() if row < 500]\n",
    "\n",
    "# Replace in dataframe\n",
    "for app in application_types_to_replace:\n",
    "    df['APPLICATION_TYPE'] = df['APPLICATION_TYPE'].replace(app,\"Other\")\n",
    "\n",
    "# Check to make sure binning was successful\n",
    "df['APPLICATION_TYPE'].value_counts()"
   ]
  },
  {
   "cell_type": "code",
   "execution_count": null,
   "id": "d79676c6",
   "metadata": {},
   "outputs": [],
   "source": [
    "# Look at CLASSIFICATION value counts for binning\n",
    "#  YOUR CODE GOES HEREclassification_types = df['CLASSIFICATION'].value_counts()\n",
    "classification_types = df['CLASSIFICATION'].value_counts()\n",
    "classification_types"
   ]
  },
  {
   "cell_type": "code",
   "execution_count": null,
   "id": "477e9278",
   "metadata": {},
   "outputs": [],
   "source": [
    "# You may find it helpful to look at CLASSIFICATION value counts >1\n",
    "[[index,row] for index,row in classification_types.items() if row > 1]"
   ]
  },
  {
   "cell_type": "code",
   "execution_count": null,
   "id": "bb1c741a",
   "metadata": {},
   "outputs": [],
   "source": [
    "# Choose a cutoff value and create a list of classifications to be replaced\n",
    "# use the variable name `classifications_to_replace`\n",
    "classifications_to_replace = [index for index,row in classification_types.items() if row < classification_types.mean()]\n",
    "\n",
    "# Replace in dataframe\n",
    "for cls in classifications_to_replace:\n",
    "    app_df['CLASSIFICATION'] = app_df['CLASSIFICATION'].replace(cls,\"Other\")\n",
    "    \n",
    "# Check to make sure binning was successful\n",
    "app_df['CLASSIFICATION'].value_counts()"
   ]
  },
  {
   "cell_type": "code",
   "execution_count": null,
   "id": "df0ecd4c",
   "metadata": {},
   "outputs": [],
   "source": [
    "# Convert categorical data to numeric with `pd.get_dummies`\n",
    "dummies = pd.get_dummies(df[['APPLICATION_TYPE', 'AFFILIATION', 'CLASSIFICATION', 'USE_CASE',\n",
    "       'ORGANIZATION', 'INCOME_AMT', 'SPECIAL_CONSIDERATIONS']])\n",
    "processed_df = pd.concat([df[['STATUS', 'ASK_AMT']], dummies], axis=1)"
   ]
  },
  {
   "cell_type": "code",
   "execution_count": null,
   "id": "7fe165ca",
   "metadata": {},
   "outputs": [],
   "source": [
    "# Split our preprocessed data into our features and target arrays\n",
    "X = processed_df\n",
    "y = df['IS_SUCCESSFUL']\n",
    "\n",
    "# Split the preprocessed data into a training and testing dataset\n",
    "X_train, X_test, y_train, y_test = train_test_split(X, y,\n",
    "                                                    test_size=.2,\n",
    "                                                    random_state=42)\n",
    "\n",
    "print(f\"X_train Shape: {X_train.shape}, X_test Shape: {X_test.shape}\")"
   ]
  },
  {
   "cell_type": "code",
   "execution_count": null,
   "id": "62df6ccc",
   "metadata": {},
   "outputs": [],
   "source": [
    "# Create a StandardScaler instances\n",
    "scaler = StandardScaler()\n",
    "\n",
    "# Fit the StandardScaler\n",
    "X_scaler = scaler.fit(X_train)\n",
    "\n",
    "# Scale the data\n",
    "X_train_scaled = X_scaler.transform(X_train)\n",
    "X_test_scaled = X_scaler.transform(X_test)"
   ]
  },
  {
   "cell_type": "code",
   "execution_count": null,
   "id": "5776cde7",
   "metadata": {},
   "outputs": [],
   "source": [
    "model = tf.keras.models.load_model('AlphabetSoupCharity.h5')"
   ]
  },
  {
   "cell_type": "code",
   "execution_count": null,
   "id": "fcf3aae7",
   "metadata": {},
   "outputs": [],
   "source": [
    "# Compile the model\n",
    "model.compile(loss=\"BinaryCrossentropy\", optimizer=\"adam\", metrics=['accuracy', 'mse'])"
   ]
  },
  {
   "cell_type": "code",
   "execution_count": null,
   "id": "64a003f4",
   "metadata": {},
   "outputs": [],
   "source": [
    "# Train the model\n",
    "fit_model = model.fit(X_train_scaled, y_train, epochs=100, validation_data=(X_test_scaled, y_test))"
   ]
  },
  {
   "cell_type": "code",
   "execution_count": null,
   "id": "39490f95",
   "metadata": {},
   "outputs": [],
   "source": [
    "# Evaluate the model and visualize performance on the test set\n",
    "evaluate_metrics = model.evaluate(X_test_scaled, y_test)\n",
    "print(f\"Test Loss: {evaluate_metrics[0]}, Test Accuracy: {evaluate_metrics[1]}\")\n"
   ]
  },
  {
   "cell_type": "code",
   "execution_count": null,
   "id": "9d8d502f",
   "metadata": {},
   "outputs": [],
   "source": [
    "# Save the optimized model\n",
    "model.save('optimized_model2.h5')"
   ]
  },
  {
   "cell_type": "code",
   "execution_count": null,
   "id": "d1e13c0b",
   "metadata": {},
   "outputs": [],
   "source": []
  },
  {
   "cell_type": "code",
   "execution_count": null,
   "id": "959b58a9",
   "metadata": {},
   "outputs": [],
   "source": []
  },
  {
   "cell_type": "code",
   "execution_count": null,
   "id": "bd89ddef",
   "metadata": {},
   "outputs": [],
   "source": []
  }
 ],
 "metadata": {
  "kernelspec": {
   "display_name": "Python 3 (ipykernel)",
   "language": "python",
   "name": "python3"
  },
  "language_info": {
   "codemirror_mode": {
    "name": "ipython",
    "version": 3
   },
   "file_extension": ".py",
   "mimetype": "text/x-python",
   "name": "python",
   "nbconvert_exporter": "python",
   "pygments_lexer": "ipython3",
   "version": "3.8.18"
  }
 },
 "nbformat": 4,
 "nbformat_minor": 5
}
