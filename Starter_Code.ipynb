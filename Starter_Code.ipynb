{
 "cells": [
  {
   "cell_type": "markdown",
   "metadata": {},
   "source": [
    "## Preprocessing"
   ]
  },
  {
   "cell_type": "code",
   "execution_count": 17,
   "metadata": {},
   "outputs": [
    {
     "data": {
      "text/html": [
       "<div>\n",
       "<style scoped>\n",
       "    .dataframe tbody tr th:only-of-type {\n",
       "        vertical-align: middle;\n",
       "    }\n",
       "\n",
       "    .dataframe tbody tr th {\n",
       "        vertical-align: top;\n",
       "    }\n",
       "\n",
       "    .dataframe thead th {\n",
       "        text-align: right;\n",
       "    }\n",
       "</style>\n",
       "<table border=\"1\" class=\"dataframe\">\n",
       "  <thead>\n",
       "    <tr style=\"text-align: right;\">\n",
       "      <th></th>\n",
       "      <th>EIN</th>\n",
       "      <th>NAME</th>\n",
       "      <th>APPLICATION_TYPE</th>\n",
       "      <th>AFFILIATION</th>\n",
       "      <th>CLASSIFICATION</th>\n",
       "      <th>USE_CASE</th>\n",
       "      <th>ORGANIZATION</th>\n",
       "      <th>STATUS</th>\n",
       "      <th>INCOME_AMT</th>\n",
       "      <th>SPECIAL_CONSIDERATIONS</th>\n",
       "      <th>ASK_AMT</th>\n",
       "      <th>IS_SUCCESSFUL</th>\n",
       "    </tr>\n",
       "  </thead>\n",
       "  <tbody>\n",
       "    <tr>\n",
       "      <th>0</th>\n",
       "      <td>10520599</td>\n",
       "      <td>BLUE KNIGHTS MOTORCYCLE CLUB</td>\n",
       "      <td>T10</td>\n",
       "      <td>Independent</td>\n",
       "      <td>C1000</td>\n",
       "      <td>ProductDev</td>\n",
       "      <td>Association</td>\n",
       "      <td>1</td>\n",
       "      <td>0</td>\n",
       "      <td>N</td>\n",
       "      <td>5000</td>\n",
       "      <td>1</td>\n",
       "    </tr>\n",
       "    <tr>\n",
       "      <th>1</th>\n",
       "      <td>10531628</td>\n",
       "      <td>AMERICAN CHESAPEAKE CLUB CHARITABLE TR</td>\n",
       "      <td>T3</td>\n",
       "      <td>Independent</td>\n",
       "      <td>C2000</td>\n",
       "      <td>Preservation</td>\n",
       "      <td>Co-operative</td>\n",
       "      <td>1</td>\n",
       "      <td>1-9999</td>\n",
       "      <td>N</td>\n",
       "      <td>108590</td>\n",
       "      <td>1</td>\n",
       "    </tr>\n",
       "    <tr>\n",
       "      <th>2</th>\n",
       "      <td>10547893</td>\n",
       "      <td>ST CLOUD PROFESSIONAL FIREFIGHTERS</td>\n",
       "      <td>T5</td>\n",
       "      <td>CompanySponsored</td>\n",
       "      <td>C3000</td>\n",
       "      <td>ProductDev</td>\n",
       "      <td>Association</td>\n",
       "      <td>1</td>\n",
       "      <td>0</td>\n",
       "      <td>N</td>\n",
       "      <td>5000</td>\n",
       "      <td>0</td>\n",
       "    </tr>\n",
       "    <tr>\n",
       "      <th>3</th>\n",
       "      <td>10553066</td>\n",
       "      <td>SOUTHSIDE ATHLETIC ASSOCIATION</td>\n",
       "      <td>T3</td>\n",
       "      <td>CompanySponsored</td>\n",
       "      <td>C2000</td>\n",
       "      <td>Preservation</td>\n",
       "      <td>Trust</td>\n",
       "      <td>1</td>\n",
       "      <td>10000-24999</td>\n",
       "      <td>N</td>\n",
       "      <td>6692</td>\n",
       "      <td>1</td>\n",
       "    </tr>\n",
       "    <tr>\n",
       "      <th>4</th>\n",
       "      <td>10556103</td>\n",
       "      <td>GENETIC RESEARCH INSTITUTE OF THE DESERT</td>\n",
       "      <td>T3</td>\n",
       "      <td>Independent</td>\n",
       "      <td>C1000</td>\n",
       "      <td>Heathcare</td>\n",
       "      <td>Trust</td>\n",
       "      <td>1</td>\n",
       "      <td>100000-499999</td>\n",
       "      <td>N</td>\n",
       "      <td>142590</td>\n",
       "      <td>1</td>\n",
       "    </tr>\n",
       "  </tbody>\n",
       "</table>\n",
       "</div>"
      ],
      "text/plain": [
       "        EIN                                      NAME APPLICATION_TYPE  \\\n",
       "0  10520599              BLUE KNIGHTS MOTORCYCLE CLUB              T10   \n",
       "1  10531628    AMERICAN CHESAPEAKE CLUB CHARITABLE TR               T3   \n",
       "2  10547893        ST CLOUD PROFESSIONAL FIREFIGHTERS               T5   \n",
       "3  10553066            SOUTHSIDE ATHLETIC ASSOCIATION               T3   \n",
       "4  10556103  GENETIC RESEARCH INSTITUTE OF THE DESERT               T3   \n",
       "\n",
       "        AFFILIATION CLASSIFICATION      USE_CASE  ORGANIZATION  STATUS  \\\n",
       "0       Independent          C1000    ProductDev   Association       1   \n",
       "1       Independent          C2000  Preservation  Co-operative       1   \n",
       "2  CompanySponsored          C3000    ProductDev   Association       1   \n",
       "3  CompanySponsored          C2000  Preservation         Trust       1   \n",
       "4       Independent          C1000     Heathcare         Trust       1   \n",
       "\n",
       "      INCOME_AMT SPECIAL_CONSIDERATIONS  ASK_AMT  IS_SUCCESSFUL  \n",
       "0              0                      N     5000              1  \n",
       "1         1-9999                      N   108590              1  \n",
       "2              0                      N     5000              0  \n",
       "3    10000-24999                      N     6692              1  \n",
       "4  100000-499999                      N   142590              1  "
      ]
     },
     "execution_count": 17,
     "metadata": {},
     "output_type": "execute_result"
    }
   ],
   "source": [
    "# Import our dependencies\n",
    "from sklearn.model_selection import train_test_split\n",
    "from sklearn.preprocessing import StandardScaler\n",
    "import pandas as pd\n",
    "import tensorflow as tf\n",
    "\n",
    "#  Import and read the charity_data.csv.\n",
    "import pandas as pd \n",
    "app_df = pd.read_csv(\"charity_data.csv\")\n",
    "app_df.head()"
   ]
  },
  {
   "cell_type": "code",
   "execution_count": 18,
   "metadata": {},
   "outputs": [],
   "source": [
    "# Drop the non-beneficial ID columns, 'EIN' and 'NAME'.\n",
    "df = app_df.drop(columns=['EIN','NAME'])"
   ]
  },
  {
   "cell_type": "code",
   "execution_count": 19,
   "metadata": {},
   "outputs": [
    {
     "data": {
      "text/plain": [
       "APPLICATION_TYPE            17\n",
       "AFFILIATION                  6\n",
       "CLASSIFICATION              71\n",
       "USE_CASE                     5\n",
       "ORGANIZATION                 4\n",
       "STATUS                       2\n",
       "INCOME_AMT                   9\n",
       "SPECIAL_CONSIDERATIONS       2\n",
       "ASK_AMT                   8747\n",
       "IS_SUCCESSFUL                2\n",
       "dtype: int64"
      ]
     },
     "execution_count": 19,
     "metadata": {},
     "output_type": "execute_result"
    }
   ],
   "source": [
    "# Determine the number of unique values in each column.\n",
    "df.nunique()"
   ]
  },
  {
   "cell_type": "code",
   "execution_count": 20,
   "metadata": {},
   "outputs": [
    {
     "data": {
      "text/plain": [
       "APPLICATION_TYPE\n",
       "T3     27037\n",
       "T4      1542\n",
       "T6      1216\n",
       "T5      1173\n",
       "T19     1065\n",
       "T8       737\n",
       "T7       725\n",
       "T10      528\n",
       "T9       156\n",
       "T13       66\n",
       "T12       27\n",
       "T2        16\n",
       "T25        3\n",
       "T14        3\n",
       "T29        2\n",
       "T15        2\n",
       "T17        1\n",
       "Name: count, dtype: int64"
      ]
     },
     "execution_count": 20,
     "metadata": {},
     "output_type": "execute_result"
    }
   ],
   "source": [
    "# Look at APPLICATION_TYPE value counts for binning\n",
    "application_types = df['APPLICATION_TYPE'].value_counts()\n",
    "application_types"
   ]
  },
  {
   "cell_type": "code",
   "execution_count": 21,
   "metadata": {},
   "outputs": [
    {
     "data": {
      "text/plain": [
       "APPLICATION_TYPE\n",
       "T3       27037\n",
       "T4        1542\n",
       "T6        1216\n",
       "T5        1173\n",
       "T19       1065\n",
       "T8         737\n",
       "T7         725\n",
       "T10        528\n",
       "Other      276\n",
       "Name: count, dtype: int64"
      ]
     },
     "execution_count": 21,
     "metadata": {},
     "output_type": "execute_result"
    }
   ],
   "source": [
    "# Choose a cutoff value and create a list of application types to be replaced\n",
    "# use the variable name `application_types_to_replace`\n",
    "application_types_to_replace = [index for index,row in application_types.items() if row < 500]\n",
    "\n",
    "# Replace in dataframe\n",
    "for app in application_types_to_replace:\n",
    "    df['APPLICATION_TYPE'] = df['APPLICATION_TYPE'].replace(app,\"Other\")\n",
    "\n",
    "# Check to make sure binning was successful\n",
    "df['APPLICATION_TYPE'].value_counts()"
   ]
  },
  {
   "cell_type": "code",
   "execution_count": 23,
   "metadata": {},
   "outputs": [
    {
     "data": {
      "text/plain": [
       "CLASSIFICATION\n",
       "C1000    17326\n",
       "C2000     6074\n",
       "C1200     4837\n",
       "C3000     1918\n",
       "C2100     1883\n",
       "         ...  \n",
       "C4120        1\n",
       "C8210        1\n",
       "C2561        1\n",
       "C4500        1\n",
       "C2150        1\n",
       "Name: count, Length: 71, dtype: int64"
      ]
     },
     "execution_count": 23,
     "metadata": {},
     "output_type": "execute_result"
    }
   ],
   "source": [
    "# Look at CLASSIFICATION value counts for binning\n",
    "#  YOUR CODE GOES HEREclassification_types = df['CLASSIFICATION'].value_counts()\n",
    "classification_types = df['CLASSIFICATION'].value_counts()\n",
    "classification_types"
   ]
  },
  {
   "cell_type": "code",
   "execution_count": 24,
   "metadata": {},
   "outputs": [
    {
     "data": {
      "text/plain": [
       "[['C1000', 17326],\n",
       " ['C2000', 6074],\n",
       " ['C1200', 4837],\n",
       " ['C3000', 1918],\n",
       " ['C2100', 1883],\n",
       " ['C7000', 777],\n",
       " ['C1700', 287],\n",
       " ['C4000', 194],\n",
       " ['C5000', 116],\n",
       " ['C1270', 114],\n",
       " ['C2700', 104],\n",
       " ['C2800', 95],\n",
       " ['C7100', 75],\n",
       " ['C1300', 58],\n",
       " ['C1280', 50],\n",
       " ['C1230', 36],\n",
       " ['C1400', 34],\n",
       " ['C7200', 32],\n",
       " ['C2300', 32],\n",
       " ['C1240', 30],\n",
       " ['C8000', 20],\n",
       " ['C7120', 18],\n",
       " ['C1500', 16],\n",
       " ['C1800', 15],\n",
       " ['C6000', 15],\n",
       " ['C1250', 14],\n",
       " ['C8200', 11],\n",
       " ['C1238', 10],\n",
       " ['C1278', 10],\n",
       " ['C1235', 9],\n",
       " ['C1237', 9],\n",
       " ['C7210', 7],\n",
       " ['C2400', 6],\n",
       " ['C1720', 6],\n",
       " ['C4100', 6],\n",
       " ['C1257', 5],\n",
       " ['C1600', 5],\n",
       " ['C1260', 3],\n",
       " ['C2710', 3],\n",
       " ['C0', 3],\n",
       " ['C3200', 2],\n",
       " ['C1234', 2],\n",
       " ['C1246', 2],\n",
       " ['C1267', 2],\n",
       " ['C1256', 2]]"
      ]
     },
     "execution_count": 24,
     "metadata": {},
     "output_type": "execute_result"
    }
   ],
   "source": [
    "# You may find it helpful to look at CLASSIFICATION value counts >1\n",
    "[[index,row] for index,row in classification_types.items() if row > 1]"
   ]
  },
  {
   "cell_type": "code",
   "execution_count": 25,
   "metadata": {},
   "outputs": [
    {
     "data": {
      "text/plain": [
       "CLASSIFICATION\n",
       "C1000    17326\n",
       "C2000     6074\n",
       "C1200     4837\n",
       "C3000     1918\n",
       "C2100     1883\n",
       "Other     1484\n",
       "C7000      777\n",
       "Name: count, dtype: int64"
      ]
     },
     "execution_count": 25,
     "metadata": {},
     "output_type": "execute_result"
    }
   ],
   "source": [
    "# Choose a cutoff value and create a list of classifications to be replaced\n",
    "# use the variable name `classifications_to_replace`\n",
    "classifications_to_replace = [index for index,row in classification_types.items() if row < classification_types.mean()]\n",
    "\n",
    "# Replace in dataframe\n",
    "for cls in classifications_to_replace:\n",
    "    application_df['CLASSIFICATION'] = application_df['CLASSIFICATION'].replace(cls,\"Other\")\n",
    "    \n",
    "# Check to make sure binning was successful\n",
    "application_df['CLASSIFICATION'].value_counts()"
   ]
  },
  {
   "cell_type": "code",
   "execution_count": 26,
   "metadata": {},
   "outputs": [],
   "source": [
    "# Convert categorical data to numeric with `pd.get_dummies`\n",
    "dummies = pd.get_dummies(df[['APPLICATION_TYPE', 'AFFILIATION', 'CLASSIFICATION', 'USE_CASE',\n",
    "       'ORGANIZATION', 'INCOME_AMT', 'SPECIAL_CONSIDERATIONS']])\n",
    "processed_df = pd.concat([df[['STATUS', 'ASK_AMT']], dummies], axis=1)"
   ]
  },
  {
   "cell_type": "code",
   "execution_count": 28,
   "metadata": {},
   "outputs": [
    {
     "name": "stdout",
     "output_type": "stream",
     "text": [
      "X_train Shape: (27439, 108), X_test Shape: (6860, 108)\n"
     ]
    }
   ],
   "source": [
    "# Split our preprocessed data into our features and target arrays\n",
    "X = processed_df\n",
    "y = df['IS_SUCCESSFUL']\n",
    "\n",
    "# Split the preprocessed data into a training and testing dataset\n",
    "X_train, X_test, y_train, y_test = train_test_split(X, y,\n",
    "                                                    test_size=.2,\n",
    "                                                    random_state=42)\n",
    "\n",
    "print(f\"X_train Shape: {X_train.shape}, X_test Shape: {X_test.shape}\")"
   ]
  },
  {
   "cell_type": "code",
   "execution_count": 29,
   "metadata": {},
   "outputs": [],
   "source": [
    "# Create a StandardScaler instances\n",
    "scaler = StandardScaler()\n",
    "\n",
    "# Fit the StandardScaler\n",
    "X_scaler = scaler.fit(X_train)\n",
    "\n",
    "# Scale the data\n",
    "X_train_scaled = X_scaler.transform(X_train)\n",
    "X_test_scaled = X_scaler.transform(X_test)"
   ]
  },
  {
   "cell_type": "markdown",
   "metadata": {},
   "source": [
    "## Compile, Train and Evaluate the Model"
   ]
  },
  {
   "cell_type": "code",
   "execution_count": 38,
   "metadata": {},
   "outputs": [
    {
     "name": "stdout",
     "output_type": "stream",
     "text": [
      "Model: \"sequential_3\"\n",
      "_________________________________________________________________\n",
      " Layer (type)                Output Shape              Param #   \n",
      "=================================================================\n",
      " dense_7 (Dense)             (None, 5)                 545       \n",
      "                                                                 \n",
      " dense_8 (Dense)             (None, 3)                 18        \n",
      "                                                                 \n",
      " dense_9 (Dense)             (None, 1)                 4         \n",
      "                                                                 \n",
      "=================================================================\n",
      "Total params: 567 (2.21 KB)\n",
      "Trainable params: 567 (2.21 KB)\n",
      "Non-trainable params: 0 (0.00 Byte)\n",
      "_________________________________________________________________\n"
     ]
    }
   ],
   "source": [
    "# Define the model - deep neural net, i.e., the number of input features and hidden nodes for each layer.\n",
    "model = tf.keras.models.Sequential()\n",
    "\n",
    "# First hidden layer\n",
    "model.add(tf.keras.layers.Dense(units=5, activation=\"tanh\", input_dim=X_train_scaled.shape[1]))\n",
    "\n",
    "# Second hidden layer\n",
    "model.add(tf.keras.layers.Dense(units=3, activation='tanh'))\n",
    "\n",
    "# Output layer\n",
    "model.add(tf.keras.layers.Dense(units=1, activation='sigmoid'))\n",
    "\n",
    "# Check the structure of the model\n",
    "model.summary()\n"
   ]
  },
  {
   "cell_type": "code",
   "execution_count": 39,
   "metadata": {},
   "outputs": [],
   "source": [
    "# Compile the model\n",
    "model.compile(loss=\"BinaryCrossentropy\", optimizer=\"adam\", metrics=['accuracy', 'mse'])"
   ]
  },
  {
   "cell_type": "code",
   "execution_count": 40,
   "metadata": {},
   "outputs": [
    {
     "name": "stdout",
     "output_type": "stream",
     "text": [
      "Epoch 1/100\n",
      "858/858 [==============================] - 4s 3ms/step - loss: 0.6021 - accuracy: 0.6953 - mse: 0.2067 - val_loss: 0.5755 - val_accuracy: 0.7235 - val_mse: 0.1945\n",
      "Epoch 2/100\n",
      "858/858 [==============================] - 2s 3ms/step - loss: 0.5653 - accuracy: 0.7281 - mse: 0.1902 - val_loss: 0.5697 - val_accuracy: 0.7194 - val_mse: 0.1922\n",
      "Epoch 3/100\n",
      "858/858 [==============================] - 3s 3ms/step - loss: 0.5596 - accuracy: 0.7294 - mse: 0.1880 - val_loss: 0.5657 - val_accuracy: 0.7191 - val_mse: 0.1907\n",
      "Epoch 4/100\n",
      "858/858 [==============================] - 3s 3ms/step - loss: 0.5568 - accuracy: 0.7301 - mse: 0.1870 - val_loss: 0.5660 - val_accuracy: 0.7200 - val_mse: 0.1909\n",
      "Epoch 5/100\n",
      "858/858 [==============================] - 2s 3ms/step - loss: 0.5553 - accuracy: 0.7303 - mse: 0.1866 - val_loss: 0.5627 - val_accuracy: 0.7230 - val_mse: 0.1897\n",
      "Epoch 6/100\n",
      "858/858 [==============================] - 3s 4ms/step - loss: 0.5532 - accuracy: 0.7310 - mse: 0.1858 - val_loss: 0.5615 - val_accuracy: 0.7227 - val_mse: 0.1892\n",
      "Epoch 7/100\n",
      "858/858 [==============================] - 4s 4ms/step - loss: 0.5518 - accuracy: 0.7314 - mse: 0.1853 - val_loss: 0.5602 - val_accuracy: 0.7245 - val_mse: 0.1887\n",
      "Epoch 8/100\n",
      "858/858 [==============================] - 2s 2ms/step - loss: 0.5512 - accuracy: 0.7311 - mse: 0.1851 - val_loss: 0.5596 - val_accuracy: 0.7271 - val_mse: 0.1885\n",
      "Epoch 9/100\n",
      "858/858 [==============================] - 2s 2ms/step - loss: 0.5504 - accuracy: 0.7314 - mse: 0.1848 - val_loss: 0.5585 - val_accuracy: 0.7270 - val_mse: 0.1879\n",
      "Epoch 10/100\n",
      "858/858 [==============================] - 2s 2ms/step - loss: 0.5492 - accuracy: 0.7324 - mse: 0.1844 - val_loss: 0.5592 - val_accuracy: 0.7286 - val_mse: 0.1882\n",
      "Epoch 11/100\n",
      "858/858 [==============================] - 2s 3ms/step - loss: 0.5490 - accuracy: 0.7310 - mse: 0.1844 - val_loss: 0.5582 - val_accuracy: 0.7274 - val_mse: 0.1878\n",
      "Epoch 12/100\n",
      "858/858 [==============================] - 2s 2ms/step - loss: 0.5481 - accuracy: 0.7326 - mse: 0.1840 - val_loss: 0.5573 - val_accuracy: 0.7302 - val_mse: 0.1874\n",
      "Epoch 13/100\n",
      "858/858 [==============================] - 2s 2ms/step - loss: 0.5478 - accuracy: 0.7316 - mse: 0.1839 - val_loss: 0.5585 - val_accuracy: 0.7290 - val_mse: 0.1878\n",
      "Epoch 14/100\n",
      "858/858 [==============================] - 2s 3ms/step - loss: 0.5478 - accuracy: 0.7311 - mse: 0.1839 - val_loss: 0.5578 - val_accuracy: 0.7303 - val_mse: 0.1876\n",
      "Epoch 15/100\n",
      "858/858 [==============================] - 2s 3ms/step - loss: 0.5471 - accuracy: 0.7317 - mse: 0.1837 - val_loss: 0.5565 - val_accuracy: 0.7296 - val_mse: 0.1870\n",
      "Epoch 16/100\n",
      "858/858 [==============================] - 3s 4ms/step - loss: 0.5470 - accuracy: 0.7326 - mse: 0.1836 - val_loss: 0.5581 - val_accuracy: 0.7305 - val_mse: 0.1877\n",
      "Epoch 17/100\n",
      "858/858 [==============================] - 3s 3ms/step - loss: 0.5469 - accuracy: 0.7333 - mse: 0.1836 - val_loss: 0.5557 - val_accuracy: 0.7306 - val_mse: 0.1868\n",
      "Epoch 18/100\n",
      "858/858 [==============================] - 2s 2ms/step - loss: 0.5467 - accuracy: 0.7320 - mse: 0.1835 - val_loss: 0.5561 - val_accuracy: 0.7305 - val_mse: 0.1869\n",
      "Epoch 19/100\n",
      "858/858 [==============================] - 3s 3ms/step - loss: 0.5463 - accuracy: 0.7319 - mse: 0.1834 - val_loss: 0.5568 - val_accuracy: 0.7300 - val_mse: 0.1872\n",
      "Epoch 20/100\n",
      "858/858 [==============================] - 3s 3ms/step - loss: 0.5462 - accuracy: 0.7327 - mse: 0.1833 - val_loss: 0.5559 - val_accuracy: 0.7274 - val_mse: 0.1867\n",
      "Epoch 21/100\n",
      "858/858 [==============================] - 2s 3ms/step - loss: 0.5459 - accuracy: 0.7325 - mse: 0.1833 - val_loss: 0.5554 - val_accuracy: 0.7271 - val_mse: 0.1866\n",
      "Epoch 22/100\n",
      "858/858 [==============================] - 2s 3ms/step - loss: 0.5459 - accuracy: 0.7326 - mse: 0.1832 - val_loss: 0.5559 - val_accuracy: 0.7283 - val_mse: 0.1868\n",
      "Epoch 23/100\n",
      "858/858 [==============================] - 2s 2ms/step - loss: 0.5457 - accuracy: 0.7331 - mse: 0.1831 - val_loss: 0.5564 - val_accuracy: 0.7267 - val_mse: 0.1871\n",
      "Epoch 24/100\n",
      "858/858 [==============================] - 2s 2ms/step - loss: 0.5456 - accuracy: 0.7331 - mse: 0.1831 - val_loss: 0.5570 - val_accuracy: 0.7300 - val_mse: 0.1872\n",
      "Epoch 25/100\n",
      "858/858 [==============================] - 2s 3ms/step - loss: 0.5453 - accuracy: 0.7337 - mse: 0.1830 - val_loss: 0.5562 - val_accuracy: 0.7274 - val_mse: 0.1869\n",
      "Epoch 26/100\n",
      "858/858 [==============================] - 2s 3ms/step - loss: 0.5454 - accuracy: 0.7333 - mse: 0.1831 - val_loss: 0.5560 - val_accuracy: 0.7286 - val_mse: 0.1867\n",
      "Epoch 27/100\n",
      "858/858 [==============================] - 2s 2ms/step - loss: 0.5453 - accuracy: 0.7323 - mse: 0.1830 - val_loss: 0.5559 - val_accuracy: 0.7268 - val_mse: 0.1867\n",
      "Epoch 28/100\n",
      "858/858 [==============================] - 3s 3ms/step - loss: 0.5454 - accuracy: 0.7330 - mse: 0.1831 - val_loss: 0.5555 - val_accuracy: 0.7289 - val_mse: 0.1866\n",
      "Epoch 29/100\n",
      "858/858 [==============================] - 3s 3ms/step - loss: 0.5450 - accuracy: 0.7338 - mse: 0.1829 - val_loss: 0.5552 - val_accuracy: 0.7286 - val_mse: 0.1865\n",
      "Epoch 30/100\n",
      "858/858 [==============================] - 2s 2ms/step - loss: 0.5450 - accuracy: 0.7338 - mse: 0.1829 - val_loss: 0.5564 - val_accuracy: 0.7273 - val_mse: 0.1870\n",
      "Epoch 31/100\n",
      "858/858 [==============================] - 2s 2ms/step - loss: 0.5449 - accuracy: 0.7334 - mse: 0.1829 - val_loss: 0.5562 - val_accuracy: 0.7287 - val_mse: 0.1869\n",
      "Epoch 32/100\n",
      "858/858 [==============================] - 2s 2ms/step - loss: 0.5451 - accuracy: 0.7330 - mse: 0.1830 - val_loss: 0.5555 - val_accuracy: 0.7297 - val_mse: 0.1866\n",
      "Epoch 33/100\n",
      "858/858 [==============================] - 2s 2ms/step - loss: 0.5448 - accuracy: 0.7340 - mse: 0.1829 - val_loss: 0.5551 - val_accuracy: 0.7306 - val_mse: 0.1863\n",
      "Epoch 34/100\n",
      "858/858 [==============================] - 2s 2ms/step - loss: 0.5447 - accuracy: 0.7332 - mse: 0.1829 - val_loss: 0.5562 - val_accuracy: 0.7293 - val_mse: 0.1869\n",
      "Epoch 35/100\n",
      "858/858 [==============================] - 2s 2ms/step - loss: 0.5446 - accuracy: 0.7328 - mse: 0.1829 - val_loss: 0.5555 - val_accuracy: 0.7274 - val_mse: 0.1865\n",
      "Epoch 36/100\n",
      "858/858 [==============================] - 2s 2ms/step - loss: 0.5448 - accuracy: 0.7334 - mse: 0.1829 - val_loss: 0.5561 - val_accuracy: 0.7283 - val_mse: 0.1868\n",
      "Epoch 37/100\n",
      "858/858 [==============================] - 2s 3ms/step - loss: 0.5445 - accuracy: 0.7337 - mse: 0.1828 - val_loss: 0.5554 - val_accuracy: 0.7296 - val_mse: 0.1865\n",
      "Epoch 38/100\n",
      "858/858 [==============================] - 2s 2ms/step - loss: 0.5445 - accuracy: 0.7338 - mse: 0.1827 - val_loss: 0.5564 - val_accuracy: 0.7290 - val_mse: 0.1869\n",
      "Epoch 39/100\n",
      "858/858 [==============================] - 2s 2ms/step - loss: 0.5445 - accuracy: 0.7333 - mse: 0.1828 - val_loss: 0.5561 - val_accuracy: 0.7300 - val_mse: 0.1868\n",
      "Epoch 40/100\n",
      "858/858 [==============================] - 2s 3ms/step - loss: 0.5442 - accuracy: 0.7340 - mse: 0.1827 - val_loss: 0.5555 - val_accuracy: 0.7292 - val_mse: 0.1866\n",
      "Epoch 41/100\n",
      "858/858 [==============================] - 2s 3ms/step - loss: 0.5444 - accuracy: 0.7338 - mse: 0.1828 - val_loss: 0.5548 - val_accuracy: 0.7294 - val_mse: 0.1864\n",
      "Epoch 42/100\n",
      "858/858 [==============================] - 3s 4ms/step - loss: 0.5443 - accuracy: 0.7334 - mse: 0.1827 - val_loss: 0.5559 - val_accuracy: 0.7267 - val_mse: 0.1867\n",
      "Epoch 43/100\n",
      "858/858 [==============================] - 3s 3ms/step - loss: 0.5443 - accuracy: 0.7333 - mse: 0.1827 - val_loss: 0.5557 - val_accuracy: 0.7300 - val_mse: 0.1866\n",
      "Epoch 44/100\n",
      "858/858 [==============================] - 2s 3ms/step - loss: 0.5441 - accuracy: 0.7339 - mse: 0.1826 - val_loss: 0.5572 - val_accuracy: 0.7294 - val_mse: 0.1872\n",
      "Epoch 45/100\n",
      "858/858 [==============================] - 2s 2ms/step - loss: 0.5441 - accuracy: 0.7338 - mse: 0.1826 - val_loss: 0.5550 - val_accuracy: 0.7305 - val_mse: 0.1864\n",
      "Epoch 46/100\n",
      "858/858 [==============================] - 2s 2ms/step - loss: 0.5441 - accuracy: 0.7337 - mse: 0.1826 - val_loss: 0.5559 - val_accuracy: 0.7257 - val_mse: 0.1868\n",
      "Epoch 47/100\n"
     ]
    },
    {
     "name": "stdout",
     "output_type": "stream",
     "text": [
      "858/858 [==============================] - 2s 2ms/step - loss: 0.5441 - accuracy: 0.7336 - mse: 0.1827 - val_loss: 0.5553 - val_accuracy: 0.7303 - val_mse: 0.1865\n",
      "Epoch 48/100\n",
      "858/858 [==============================] - 2s 2ms/step - loss: 0.5441 - accuracy: 0.7341 - mse: 0.1826 - val_loss: 0.5550 - val_accuracy: 0.7294 - val_mse: 0.1864\n",
      "Epoch 49/100\n",
      "858/858 [==============================] - 2s 2ms/step - loss: 0.5441 - accuracy: 0.7340 - mse: 0.1826 - val_loss: 0.5547 - val_accuracy: 0.7299 - val_mse: 0.1863\n",
      "Epoch 50/100\n",
      "858/858 [==============================] - 2s 2ms/step - loss: 0.5438 - accuracy: 0.7336 - mse: 0.1826 - val_loss: 0.5557 - val_accuracy: 0.7273 - val_mse: 0.1867\n",
      "Epoch 51/100\n",
      "858/858 [==============================] - 2s 2ms/step - loss: 0.5439 - accuracy: 0.7337 - mse: 0.1826 - val_loss: 0.5552 - val_accuracy: 0.7297 - val_mse: 0.1866\n",
      "Epoch 52/100\n",
      "858/858 [==============================] - 2s 3ms/step - loss: 0.5438 - accuracy: 0.7335 - mse: 0.1825 - val_loss: 0.5566 - val_accuracy: 0.7289 - val_mse: 0.1870\n",
      "Epoch 53/100\n",
      "858/858 [==============================] - 2s 3ms/step - loss: 0.5439 - accuracy: 0.7333 - mse: 0.1826 - val_loss: 0.5555 - val_accuracy: 0.7294 - val_mse: 0.1866\n",
      "Epoch 54/100\n",
      "858/858 [==============================] - 2s 2ms/step - loss: 0.5435 - accuracy: 0.7335 - mse: 0.1824 - val_loss: 0.5558 - val_accuracy: 0.7258 - val_mse: 0.1868\n",
      "Epoch 55/100\n",
      "858/858 [==============================] - 2s 3ms/step - loss: 0.5437 - accuracy: 0.7345 - mse: 0.1825 - val_loss: 0.5557 - val_accuracy: 0.7277 - val_mse: 0.1867\n",
      "Epoch 56/100\n",
      "858/858 [==============================] - 2s 2ms/step - loss: 0.5434 - accuracy: 0.7338 - mse: 0.1824 - val_loss: 0.5556 - val_accuracy: 0.7302 - val_mse: 0.1866\n",
      "Epoch 57/100\n",
      "858/858 [==============================] - 2s 2ms/step - loss: 0.5437 - accuracy: 0.7340 - mse: 0.1825 - val_loss: 0.5554 - val_accuracy: 0.7296 - val_mse: 0.1866\n",
      "Epoch 58/100\n",
      "858/858 [==============================] - 2s 3ms/step - loss: 0.5437 - accuracy: 0.7336 - mse: 0.1825 - val_loss: 0.5564 - val_accuracy: 0.7303 - val_mse: 0.1869\n",
      "Epoch 59/100\n",
      "858/858 [==============================] - 2s 3ms/step - loss: 0.5434 - accuracy: 0.7351 - mse: 0.1824 - val_loss: 0.5557 - val_accuracy: 0.7299 - val_mse: 0.1868\n",
      "Epoch 60/100\n",
      "858/858 [==============================] - 2s 2ms/step - loss: 0.5433 - accuracy: 0.7333 - mse: 0.1824 - val_loss: 0.5554 - val_accuracy: 0.7293 - val_mse: 0.1866\n",
      "Epoch 61/100\n",
      "858/858 [==============================] - 2s 2ms/step - loss: 0.5436 - accuracy: 0.7338 - mse: 0.1825 - val_loss: 0.5550 - val_accuracy: 0.7297 - val_mse: 0.1864\n",
      "Epoch 62/100\n",
      "858/858 [==============================] - 2s 2ms/step - loss: 0.5431 - accuracy: 0.7331 - mse: 0.1823 - val_loss: 0.5560 - val_accuracy: 0.7299 - val_mse: 0.1868\n",
      "Epoch 63/100\n",
      "858/858 [==============================] - 2s 3ms/step - loss: 0.5434 - accuracy: 0.7338 - mse: 0.1824 - val_loss: 0.5552 - val_accuracy: 0.7302 - val_mse: 0.1865\n",
      "Epoch 64/100\n",
      "858/858 [==============================] - 2s 2ms/step - loss: 0.5436 - accuracy: 0.7340 - mse: 0.1825 - val_loss: 0.5548 - val_accuracy: 0.7296 - val_mse: 0.1864\n",
      "Epoch 65/100\n",
      "858/858 [==============================] - 2s 2ms/step - loss: 0.5432 - accuracy: 0.7346 - mse: 0.1824 - val_loss: 0.5552 - val_accuracy: 0.7293 - val_mse: 0.1865\n",
      "Epoch 66/100\n",
      "858/858 [==============================] - 2s 3ms/step - loss: 0.5432 - accuracy: 0.7333 - mse: 0.1823 - val_loss: 0.5545 - val_accuracy: 0.7300 - val_mse: 0.1863\n",
      "Epoch 67/100\n",
      "858/858 [==============================] - 2s 2ms/step - loss: 0.5433 - accuracy: 0.7334 - mse: 0.1824 - val_loss: 0.5552 - val_accuracy: 0.7290 - val_mse: 0.1865\n",
      "Epoch 68/100\n",
      "858/858 [==============================] - 2s 2ms/step - loss: 0.5432 - accuracy: 0.7341 - mse: 0.1823 - val_loss: 0.5556 - val_accuracy: 0.7296 - val_mse: 0.1867\n",
      "Epoch 69/100\n",
      "858/858 [==============================] - 3s 3ms/step - loss: 0.5428 - accuracy: 0.7344 - mse: 0.1822 - val_loss: 0.5561 - val_accuracy: 0.7303 - val_mse: 0.1868\n",
      "Epoch 70/100\n",
      "858/858 [==============================] - 3s 4ms/step - loss: 0.5431 - accuracy: 0.7338 - mse: 0.1823 - val_loss: 0.5557 - val_accuracy: 0.7293 - val_mse: 0.1867\n",
      "Epoch 71/100\n",
      "858/858 [==============================] - 2s 2ms/step - loss: 0.5429 - accuracy: 0.7348 - mse: 0.1823 - val_loss: 0.5566 - val_accuracy: 0.7289 - val_mse: 0.1870\n",
      "Epoch 72/100\n",
      "858/858 [==============================] - 2s 2ms/step - loss: 0.5431 - accuracy: 0.7332 - mse: 0.1823 - val_loss: 0.5552 - val_accuracy: 0.7284 - val_mse: 0.1865\n",
      "Epoch 73/100\n",
      "858/858 [==============================] - 2s 2ms/step - loss: 0.5431 - accuracy: 0.7340 - mse: 0.1823 - val_loss: 0.5560 - val_accuracy: 0.7294 - val_mse: 0.1868\n",
      "Epoch 74/100\n",
      "858/858 [==============================] - 2s 3ms/step - loss: 0.5430 - accuracy: 0.7339 - mse: 0.1823 - val_loss: 0.5559 - val_accuracy: 0.7300 - val_mse: 0.1867\n",
      "Epoch 75/100\n",
      "858/858 [==============================] - 2s 2ms/step - loss: 0.5428 - accuracy: 0.7336 - mse: 0.1822 - val_loss: 0.5553 - val_accuracy: 0.7293 - val_mse: 0.1866\n",
      "Epoch 76/100\n",
      "858/858 [==============================] - 2s 2ms/step - loss: 0.5429 - accuracy: 0.7335 - mse: 0.1823 - val_loss: 0.5551 - val_accuracy: 0.7292 - val_mse: 0.1865\n",
      "Epoch 77/100\n",
      "858/858 [==============================] - 2s 2ms/step - loss: 0.5427 - accuracy: 0.7338 - mse: 0.1822 - val_loss: 0.5552 - val_accuracy: 0.7297 - val_mse: 0.1865\n",
      "Epoch 78/100\n",
      "858/858 [==============================] - 2s 2ms/step - loss: 0.5428 - accuracy: 0.7333 - mse: 0.1822 - val_loss: 0.5560 - val_accuracy: 0.7296 - val_mse: 0.1867\n",
      "Epoch 79/100\n",
      "858/858 [==============================] - 2s 3ms/step - loss: 0.5429 - accuracy: 0.7333 - mse: 0.1823 - val_loss: 0.5550 - val_accuracy: 0.7294 - val_mse: 0.1864\n",
      "Epoch 80/100\n",
      "858/858 [==============================] - 2s 2ms/step - loss: 0.5428 - accuracy: 0.7337 - mse: 0.1822 - val_loss: 0.5557 - val_accuracy: 0.7300 - val_mse: 0.1866\n",
      "Epoch 81/100\n",
      "858/858 [==============================] - 2s 2ms/step - loss: 0.5427 - accuracy: 0.7338 - mse: 0.1822 - val_loss: 0.5558 - val_accuracy: 0.7297 - val_mse: 0.1867\n",
      "Epoch 82/100\n",
      "858/858 [==============================] - 2s 2ms/step - loss: 0.5426 - accuracy: 0.7341 - mse: 0.1822 - val_loss: 0.5566 - val_accuracy: 0.7296 - val_mse: 0.1870\n",
      "Epoch 83/100\n",
      "858/858 [==============================] - 2s 3ms/step - loss: 0.5425 - accuracy: 0.7341 - mse: 0.1821 - val_loss: 0.5551 - val_accuracy: 0.7294 - val_mse: 0.1865\n",
      "Epoch 84/100\n",
      "858/858 [==============================] - 2s 2ms/step - loss: 0.5425 - accuracy: 0.7338 - mse: 0.1821 - val_loss: 0.5560 - val_accuracy: 0.7303 - val_mse: 0.1867\n",
      "Epoch 85/100\n",
      "858/858 [==============================] - 2s 2ms/step - loss: 0.5427 - accuracy: 0.7333 - mse: 0.1822 - val_loss: 0.5554 - val_accuracy: 0.7273 - val_mse: 0.1866\n",
      "Epoch 86/100\n",
      "858/858 [==============================] - 2s 3ms/step - loss: 0.5425 - accuracy: 0.7338 - mse: 0.1821 - val_loss: 0.5557 - val_accuracy: 0.7299 - val_mse: 0.1866\n",
      "Epoch 87/100\n",
      "858/858 [==============================] - 2s 3ms/step - loss: 0.5425 - accuracy: 0.7336 - mse: 0.1821 - val_loss: 0.5554 - val_accuracy: 0.7271 - val_mse: 0.1865\n",
      "Epoch 88/100\n",
      "858/858 [==============================] - 2s 2ms/step - loss: 0.5426 - accuracy: 0.7333 - mse: 0.1821 - val_loss: 0.5557 - val_accuracy: 0.7299 - val_mse: 0.1866\n",
      "Epoch 89/100\n",
      "858/858 [==============================] - 2s 3ms/step - loss: 0.5429 - accuracy: 0.7337 - mse: 0.1822 - val_loss: 0.5550 - val_accuracy: 0.7278 - val_mse: 0.1864\n",
      "Epoch 90/100\n",
      "858/858 [==============================] - 2s 2ms/step - loss: 0.5427 - accuracy: 0.7332 - mse: 0.1822 - val_loss: 0.5552 - val_accuracy: 0.7294 - val_mse: 0.1864\n",
      "Epoch 91/100\n",
      "858/858 [==============================] - 2s 2ms/step - loss: 0.5425 - accuracy: 0.7339 - mse: 0.1821 - val_loss: 0.5553 - val_accuracy: 0.7287 - val_mse: 0.1865\n",
      "Epoch 92/100\n",
      "858/858 [==============================] - 2s 3ms/step - loss: 0.5423 - accuracy: 0.7336 - mse: 0.1820 - val_loss: 0.5563 - val_accuracy: 0.7292 - val_mse: 0.1870\n",
      "Epoch 93/100\n"
     ]
    },
    {
     "name": "stdout",
     "output_type": "stream",
     "text": [
      "858/858 [==============================] - 2s 2ms/step - loss: 0.5423 - accuracy: 0.7335 - mse: 0.1820 - val_loss: 0.5553 - val_accuracy: 0.7278 - val_mse: 0.1865\n",
      "Epoch 94/100\n",
      "858/858 [==============================] - 2s 2ms/step - loss: 0.5424 - accuracy: 0.7338 - mse: 0.1820 - val_loss: 0.5563 - val_accuracy: 0.7262 - val_mse: 0.1869\n",
      "Epoch 95/100\n",
      "858/858 [==============================] - 2s 2ms/step - loss: 0.5424 - accuracy: 0.7341 - mse: 0.1821 - val_loss: 0.5554 - val_accuracy: 0.7296 - val_mse: 0.1865\n",
      "Epoch 96/100\n",
      "858/858 [==============================] - 2s 3ms/step - loss: 0.5423 - accuracy: 0.7336 - mse: 0.1820 - val_loss: 0.5552 - val_accuracy: 0.7283 - val_mse: 0.1865\n",
      "Epoch 97/100\n",
      "858/858 [==============================] - 3s 4ms/step - loss: 0.5422 - accuracy: 0.7341 - mse: 0.1820 - val_loss: 0.5557 - val_accuracy: 0.7293 - val_mse: 0.1868\n",
      "Epoch 98/100\n",
      "858/858 [==============================] - 4s 4ms/step - loss: 0.5423 - accuracy: 0.7336 - mse: 0.1820 - val_loss: 0.5561 - val_accuracy: 0.7281 - val_mse: 0.1868\n",
      "Epoch 99/100\n",
      "858/858 [==============================] - 2s 3ms/step - loss: 0.5423 - accuracy: 0.7334 - mse: 0.1820 - val_loss: 0.5556 - val_accuracy: 0.7274 - val_mse: 0.1866\n",
      "Epoch 100/100\n",
      "858/858 [==============================] - 4s 4ms/step - loss: 0.5422 - accuracy: 0.7334 - mse: 0.1820 - val_loss: 0.5556 - val_accuracy: 0.7302 - val_mse: 0.1866\n"
     ]
    }
   ],
   "source": [
    "# Train the model\n",
    "fit_model = model.fit(X_train_scaled, y_train, epochs=100, validation_data=(X_test_scaled, y_test))"
   ]
  },
  {
   "cell_type": "code",
   "execution_count": 45,
   "metadata": {},
   "outputs": [
    {
     "name": "stdout",
     "output_type": "stream",
     "text": [
      "215/215 [==============================] - 0s 2ms/step - loss: 0.5556 - accuracy: 0.7302 - mse: 0.1866\n"
     ]
    },
    {
     "data": {
      "text/plain": [
       "[0.5556342601776123, 0.7301748991012573, 0.18661828339099884]"
      ]
     },
     "execution_count": 45,
     "metadata": {},
     "output_type": "execute_result"
    }
   ],
   "source": [
    "# Evaluate the model using the test data\n",
    "model.evaluate(X_test_scaled, y_test)"
   ]
  },
  {
   "cell_type": "code",
   "execution_count": 46,
   "metadata": {},
   "outputs": [
    {
     "name": "stderr",
     "output_type": "stream",
     "text": [
      "C:\\Users\\wnaiy\\anaconda3\\envs\\ml\\lib\\site-packages\\keras\\src\\engine\\training.py:3000: UserWarning: You are saving your model as an HDF5 file via `model.save()`. This file format is considered legacy. We recommend using instead the native Keras format, e.g. `model.save('my_model.keras')`.\n",
      "  saving_api.save_model(\n"
     ]
    }
   ],
   "source": [
    "# Export our model to HDF5 file\n",
    "model.save(\"model.h5\")"
   ]
  },
  {
   "cell_type": "code",
   "execution_count": null,
   "metadata": {},
   "outputs": [],
   "source": []
  }
 ],
 "metadata": {
  "kernelspec": {
   "display_name": "Python 3 (ipykernel)",
   "language": "python",
   "name": "python3"
  },
  "language_info": {
   "codemirror_mode": {
    "name": "ipython",
    "version": 3
   },
   "file_extension": ".py",
   "mimetype": "text/x-python",
   "name": "python",
   "nbconvert_exporter": "python",
   "pygments_lexer": "ipython3",
   "version": "3.8.18"
  },
  "vscode": {
   "interpreter": {
    "hash": "31f2aee4e71d21fbe5cf8b01ff0e069b9275f58929596ceb00d14d90e3e16cd6"
   }
  }
 },
 "nbformat": 4,
 "nbformat_minor": 4
}
